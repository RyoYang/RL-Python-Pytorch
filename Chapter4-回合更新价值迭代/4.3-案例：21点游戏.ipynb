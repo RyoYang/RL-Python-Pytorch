{
 "cells": [
  {
   "cell_type": "code",
   "execution_count": 1,
   "metadata": {},
   "outputs": [],
   "source": [
    "import gym\n",
    "import numpy as np\n",
    "import matplotlib.pyplot as plt\n",
    "\n",
    "from tqdm.notebook import tqdm\n",
    "\n",
    "np.random.seed(0)"
   ]
  },
  {
   "cell_type": "code",
   "execution_count": 2,
   "metadata": {},
   "outputs": [
    {
     "name": "stdout",
     "output_type": "stream",
     "text": [
      "观测空间: Tuple(Discrete(32), Discrete(11), Discrete(2))\n",
      "动作空间: Discrete(2)\n"
     ]
    }
   ],
   "source": [
    "env = gym.make('Blackjack-v0')\n",
    "env.seed(0)\n",
    "\n",
    "print('观测空间: {}'.format(env.observation_space))\n",
    "print('动作空间: {}'.format(env.action_space))"
   ]
  },
  {
   "cell_type": "code",
   "execution_count": 3,
   "metadata": {},
   "outputs": [
    {
     "name": "stdout",
     "output_type": "stream",
     "text": [
      "观测 = (18, 1, False)\n",
      "玩家 = [10, 8], 庄家 = [1, 7]\n",
      "动作 = 0\n",
      "观测 = (18, 1, False), 奖励 = 0.0, 结束指示 = True\n"
     ]
    }
   ],
   "source": [
    "# 用随机策略玩一个回合\n",
    "\n",
    "observation = env.reset()\n",
    "print('观测 = {}'.format(observation))\n",
    "\n",
    "while True:\n",
    "    print('玩家 = {}, 庄家 = {}'.format(env.player, env.dealer))\n",
    "    action = np.random.choice(env.action_space.n)\n",
    "    print('动作 = {}'.format(action))\n",
    "    observation, reward, done, _ = env.step(action)\n",
    "    print('观测 = {}, 奖励 = {}, 结束指示 = {}'.format(observation, reward, done))\n",
    "    \n",
    "    if done:\n",
    "        break"
   ]
  },
  {
   "cell_type": "code",
   "execution_count": 4,
   "metadata": {},
   "outputs": [],
   "source": [
    "# 从观测到状态\n",
    "\n",
    "def ob2state(observation):\n",
    "    return (observation[0], observation[1], int(observation[2]))"
   ]
  },
  {
   "cell_type": "code",
   "execution_count": 5,
   "metadata": {},
   "outputs": [],
   "source": [
    "# 同策回合更新策略评估\n",
    "\n",
    "def evaluate_action_monte_carlo(env, policy, episode_num=500000):\n",
    "    q = np.zeros_like(policy)\n",
    "    c = np.zeros_like(policy)\n",
    "    \n",
    "    for _ in tqdm(range(episode_num)):\n",
    "        state_actions = []\n",
    "        observation = env.reset()\n",
    "        while True:\n",
    "            state = ob2state(observation)\n",
    "            action = np.random.choice(env.action_space.n, p=policy[state])\n",
    "            state_actions.append((state, action))\n",
    "            observation, reward, done, _ = env.step(action)\n",
    "            \n",
    "            if done:\n",
    "                break\n",
    "            \n",
    "        g = reward\n",
    "        for state, action in state_actions:\n",
    "            c[state][action] += 1\n",
    "            q[state][action] += (g - q[state][action]) / c[state][action]\n",
    "    return q"
   ]
  },
  {
   "cell_type": "code",
   "execution_count": 6,
   "metadata": {},
   "outputs": [
    {
     "data": {
      "application/vnd.jupyter.widget-view+json": {
       "model_id": "55843890a9a04fe6b676c26cf69065f1",
       "version_major": 2,
       "version_minor": 0
      },
      "text/plain": [
       "HBox(children=(FloatProgress(value=0.0, max=500000.0), HTML(value='')))"
      ]
     },
     "metadata": {},
     "output_type": "display_data"
    },
    {
     "name": "stdout",
     "output_type": "stream",
     "text": [
      "\n"
     ]
    }
   ],
   "source": [
    "policy = np.zeros((22, 11, 2, 2))\n",
    "policy[20:, :, :, 0] = 1  # >=20时不再要牌\n",
    "policy[:20, :, :, 1] = 1  # <20时再要牌\n",
    "q = evaluate_action_monte_carlo(env, policy)\n",
    "v = (q * policy).sum(axis=-1)"
   ]
  },
  {
   "cell_type": "code",
   "execution_count": 7,
   "metadata": {},
   "outputs": [],
   "source": [
    "# 绘制最后一维的指标为0或1的3维数组\n",
    "def plot(data):\n",
    "    fig, axes = plt.subplots(1, 2, figsize=(9, 4))\n",
    "    titles = ['without ace', 'with ace']\n",
    "    have_aces = [0, 1]\n",
    "    extent = [12, 22, 1, 11]\n",
    "    \n",
    "    for title, have_ace, axis in zip(titles, have_aces, axes):\n",
    "        dat = data[extent[0]:extent[1], extent[2]:extent[3], have_ace].T\n",
    "        axis.imshow(dat, extent=extent, origin='lower')\n",
    "        axis.set_xlabel('player sum')\n",
    "        axis.set_ylabel('dealer showing')\n",
    "        axis.set_title(title)"
   ]
  },
  {
   "cell_type": "code",
   "execution_count": 8,
   "metadata": {},
   "outputs": [
    {
     "data": {
      "image/png": "[encoded data removed]",
      "text/plain": [
       "<Figure size 648x288 with 2 Axes>"
      ]
     },
     "metadata": {
      "needs_background": "light"
     },
     "output_type": "display_data"
    }
   ],
   "source": [
    "plot(v)"
   ]
  },
  {
   "cell_type": "code",
   "execution_count": 9,
   "metadata": {},
   "outputs": [],
   "source": [
    "# 带起始探索的同策回合更新\n",
    "\n",
    "def monte_carlo_with_exploring_start(env, episode_num=500000):\n",
    "    policy = np.zeros((22, 11, 2, 2))\n",
    "    policy[:, :, :, 1] = 1.\n",
    "    q = np.zeros_like(policy)\n",
    "    c = np.zeros_like(policy)\n",
    "    \n",
    "    for _ in tqdm(range(episode_num)):\n",
    "        # 随机选择起始状态和起始动作\n",
    "        state = (np.random.randint(12, 22),\n",
    "                 np.random.randint(1, 11),\n",
    "                 np.random.randint(2))\n",
    "        action = np.random.randint(2)\n",
    "        \n",
    "        env.reset()\n",
    "        if state[2]:  # 有A\n",
    "            env.player = [1, state[0] - 11]\n",
    "        else:  # 没有A\n",
    "            if state[0] == 21:\n",
    "                env.player = [10, 9, 2]\n",
    "            else:\n",
    "                env.player = [10, state[0] - 10]\n",
    "        env.dealer[0] = state[1]\n",
    "        \n",
    "        state_actions = []\n",
    "        while True:\n",
    "            state_actions.append((state, action))\n",
    "            observation, reward, done, _ = env.step(action)\n",
    "            \n",
    "            if done:\n",
    "                break\n",
    "            \n",
    "            state = ob2state(observation)\n",
    "            action = np.random.choice(env.action_space.n, p=policy[state])\n",
    "        \n",
    "        g = reward\n",
    "        for state, action in state_actions:\n",
    "            c[state][action] += 1.\n",
    "            q[state][action] += (g - q[state][action]) / c[state][action]\n",
    "            a = q[state].argmax()\n",
    "            policy[state] = 0.\n",
    "            policy[state][a] = 1.\n",
    "    \n",
    "    return policy, q"
   ]
  },
  {
   "cell_type": "code",
   "execution_count": 10,
   "metadata": {},
   "outputs": [
    {
     "data": {
      "application/vnd.jupyter.widget-view+json": {
       "model_id": "0c3eb0a7a75c4a398889b3fd014b1b2c",
       "version_major": 2,
       "version_minor": 0
      },
      "text/plain": [
       "HBox(children=(FloatProgress(value=0.0, max=500000.0), HTML(value='')))"
      ]
     },
     "metadata": {},
     "output_type": "display_data"
    },
    {
     "name": "stdout",
     "output_type": "stream",
     "text": [
      "\n"
     ]
    }
   ],
   "source": [
    "policy, q = monte_carlo_with_exploring_start(env)\n",
    "v = q.max(axis=-1)"
   ]
  },
  {
   "cell_type": "code",
   "execution_count": 11,
   "metadata": {},
   "outputs": [
    {
     "data": {
      "image/png": "[encoded data removed]",
      "text/plain": [
       "<Figure size 648x288 with 2 Axes>"
      ]
     },
     "metadata": {
      "needs_background": "light"
     },
     "output_type": "display_data"
    },
    {
     "data": {
      "image/png": "[encoded data removed]",
      "text/plain": [
       "<Figure size 648x288 with 2 Axes>"
      ]
     },
     "metadata": {
      "needs_background": "light"
     },
     "output_type": "display_data"
    }
   ],
   "source": [
    "plot(policy.argmax(-1))\n",
    "plot(v)"
   ]
  },
  {
   "cell_type": "code",
   "execution_count": 12,
   "metadata": {},
   "outputs": [],
   "source": [
    "# 基于柔性策略的同策回合更新\n",
    "\n",
    "def monte_carlo_with_soft(env, episode_num=500000, epsilon=0.1):\n",
    "    policy = np.ones((22, 11, 2, 2)) * 0.5\n",
    "    q = np.zeros_like(policy)\n",
    "    c = np.zeros_like(policy)\n",
    "    \n",
    "    for _ in tqdm(range(episode_num)):\n",
    "        state_actions = []\n",
    "        observation = env.reset()\n",
    "        \n",
    "        while True:\n",
    "            state = ob2state(observation)\n",
    "            action = np.random.choice(env.action_space.n, p=policy[state])\n",
    "            state_actions.append([state, action])\n",
    "            \n",
    "            observation, reward, done, _ = env.step(action)\n",
    "            if done:\n",
    "                break\n",
    "        \n",
    "        g = reward\n",
    "        for state, action in state_actions:\n",
    "            c[state][action] += 1\n",
    "            q[state][action] += (g - q[state][action]) / c[state][action]\n",
    "            a = q[state].argmax()\n",
    "            policy[state] = epsilon / 2.0\n",
    "            policy[state][a] += 1.0 - epsilon\n",
    "    return policy, q"
   ]
  },
  {
   "cell_type": "code",
   "execution_count": 13,
   "metadata": {},
   "outputs": [
    {
     "data": {
      "application/vnd.jupyter.widget-view+json": {
       "model_id": "2d2dd23f407549b6954d33d9344585ee",
       "version_major": 2,
       "version_minor": 0
      },
      "text/plain": [
       "HBox(children=(FloatProgress(value=0.0, max=500000.0), HTML(value='')))"
      ]
     },
     "metadata": {},
     "output_type": "display_data"
    },
    {
     "name": "stdout",
     "output_type": "stream",
     "text": [
      "\n"
     ]
    },
    {
     "data": {
      "image/png": "[encoded data removed]",
      "text/plain": [
       "<Figure size 648x288 with 2 Axes>"
      ]
     },
     "metadata": {
      "needs_background": "light"
     },
     "output_type": "display_data"
    },
    {
     "data": {
      "image/png": "[encoded data removed]",
      "text/plain": [
       "<Figure size 648x288 with 2 Axes>"
      ]
     },
     "metadata": {
      "needs_background": "light"
     },
     "output_type": "display_data"
    }
   ],
   "source": [
    "policy, q = monte_carlo_with_soft(env)\n",
    "v = q.max(axis=-1)\n",
    "plot(policy.argmax(-1))\n",
    "plot(v)"
   ]
  },
  {
   "cell_type": "code",
   "execution_count": 14,
   "metadata": {},
   "outputs": [],
   "source": [
    "# 重要性采样策略评估\n",
    "\n",
    "def evaluate_monte_carlo_with_importance_resample(env, policy, behavior_policy, episode_num=500000):\n",
    "    q = np.zeros_like(policy)\n",
    "    c = np.zeros_like(policy)\n",
    "    \n",
    "    for _ in tqdm(range(episode_num)):\n",
    "        state_actions = []\n",
    "        observation = env.reset()\n",
    "        \n",
    "        while True:\n",
    "            state = ob2state(observation)\n",
    "            action = np.random.choice(env.action_space.n, p=behavior_policy[state])\n",
    "            state_actions.append([state, action])\n",
    "            \n",
    "            observation, reward, done, _ = env.step(action)\n",
    "            if done:\n",
    "                break\n",
    "        \n",
    "        g = reward\n",
    "        rho = 1.0  # 重要性采样比率\n",
    "        for state, action in state_actions:\n",
    "            c[state][action] += rho\n",
    "            q[state][action] += (rho / c[state][action] * (g - q[state][action]))\n",
    "            rho *= (policy[state][action] / behavior_policy[state][action])\n",
    "            if rho == 0:\n",
    "                break\n",
    "    return q"
   ]
  },
  {
   "cell_type": "code",
   "execution_count": 15,
   "metadata": {},
   "outputs": [
    {
     "data": {
      "application/vnd.jupyter.widget-view+json": {
       "model_id": "4e4bbd925eef4420b90a066c60bb73f5",
       "version_major": 2,
       "version_minor": 0
      },
      "text/plain": [
       "HBox(children=(FloatProgress(value=0.0, max=500000.0), HTML(value='')))"
      ]
     },
     "metadata": {},
     "output_type": "display_data"
    },
    {
     "name": "stdout",
     "output_type": "stream",
     "text": [
      "\n"
     ]
    },
    {
     "data": {
      "image/png": "[encoded data removed]",
      "text/plain": [
       "<Figure size 648x288 with 2 Axes>"
      ]
     },
     "metadata": {
      "needs_background": "light"
     },
     "output_type": "display_data"
    }
   ],
   "source": [
    "policy = np.zeros((22, 11, 2, 2))\n",
    "policy[20:, :, :, 0] = 1  # >= 20 时收手\n",
    "policy[:20, :, :, 1] = 1  # < 20 时继续\n",
    "behavior_policy = np.ones_like(policy) * 0.5\n",
    "q = evaluate_monte_carlo_with_importance_resample(env, policy, behavior_policy)\n",
    "v = (q * policy).sum(axis=-1)\n",
    "plot(v)"
   ]
  },
  {
   "cell_type": "code",
   "execution_count": 16,
   "metadata": {},
   "outputs": [],
   "source": [
    "def monte_carlo_importance_resample(env, episode_num=500000):\n",
    "    policy = np.zeros((22, 11, 2, 2))\n",
    "    policy[:, :, :, 0] = 1.0\n",
    "    behavior_policy = np.ones_like(policy) * 0.5\n",
    "    q = np.zeros_like(policy)\n",
    "    c = np.zeros_like(policy)\n",
    "    \n",
    "    for _ in tqdm(range(episode_num)):\n",
    "        state_actions = []\n",
    "        observation = env.reset()\n",
    "        \n",
    "        while True:\n",
    "            state = ob2state(observation)\n",
    "            action = np.random.choice(env.action_space.n, p=behavior_policy[state])\n",
    "            state_actions.append([state, action])\n",
    "            \n",
    "            observation, reward, done, _ = env.step(action)\n",
    "            if done:\n",
    "                break\n",
    "        \n",
    "        g = reward\n",
    "        rho = 1.0\n",
    "        for state, action in state_actions:\n",
    "            c[state][action] += rho\n",
    "            q[state][action] += (rho / c[state][action] * (g - q[state][action]))\n",
    "            a = q[state].argmax()\n",
    "            policy[state] = 0.0\n",
    "            policy[state][a] = 1.0\n",
    "            if a != action:\n",
    "                break\n",
    "            rho /= behavior_policy[state][action]\n",
    "\n",
    "    return policy, q"
   ]
  },
  {
   "cell_type": "code",
   "execution_count": 17,
   "metadata": {},
   "outputs": [
    {
     "data": {
      "application/vnd.jupyter.widget-view+json": {
       "model_id": "b18769817b104b9c81e177a6259ae9be",
       "version_major": 2,
       "version_minor": 0
      },
      "text/plain": [
       "HBox(children=(FloatProgress(value=0.0, max=500000.0), HTML(value='')))"
      ]
     },
     "metadata": {},
     "output_type": "display_data"
    },
    {
     "name": "stdout",
     "output_type": "stream",
     "text": [
      "\n"
     ]
    },
    {
     "data": {
      "image/png": "[encoded data removed]",
      "text/plain": [
       "<Figure size 648x288 with 2 Axes>"
      ]
     },
     "metadata": {
      "needs_background": "light"
     },
     "output_type": "display_data"
    },
    {
     "data": {
      "image/png": "[encoded data removed]",
      "text/plain": [
       "<Figure size 648x288 with 2 Axes>"
      ]
     },
     "metadata": {
      "needs_background": "light"
     },
     "output_type": "display_data"
    }
   ],
   "source": [
    "policy, q = monte_carlo_importance_resample(env)\n",
    "v = q.max(axis=-1)\n",
    "plot(policy.argmax(-1))\n",
    "plot(v)"
   ]
  }
 ],
 "metadata": {
  "kernelspec": {
   "display_name": "Python 3",
   "language": "python",
   "name": "python3"
  },
  "language_info": {
   "codemirror_mode": {
    "name": "ipython",
    "version": 3
   },
   "file_extension": ".py",
   "mimetype": "text/x-python",
   "name": "python",
   "nbconvert_exporter": "python",
   "pygments_lexer": "ipython3",
   "version": "3.7.6"
  }
 },
 "nbformat": 4,
 "nbformat_minor": 4
}
