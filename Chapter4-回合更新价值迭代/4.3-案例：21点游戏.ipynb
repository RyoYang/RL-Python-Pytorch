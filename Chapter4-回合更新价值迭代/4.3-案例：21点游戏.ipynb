{
 "cells": [
  {
   "cell_type": "code",
   "execution_count": 1,
   "metadata": {},
   "outputs": [],
   "source": [
    "import gym\n",
    "import numpy as np"
   ]
  },
  {
   "cell_type": "code",
   "execution_count": 3,
   "metadata": {},
   "outputs": [
    {
     "name": "stdout",
     "output_type": "stream",
     "text": [
      "观测空间: Tuple(Discrete(32), Discrete(11), Discrete(2))\n",
      "动作空间: Discrete(2)\n"
     ]
    }
   ],
   "source": [
    "env = gym.make('Blackjack-v0')\n",
    "\n",
    "print('观测空间: {}'.format(env.observation_space))\n",
    "print('动作空间: {}'.format(env.action_space))"
   ]
  },
  {
   "cell_type": "code",
   "execution_count": 5,
   "metadata": {},
   "outputs": [
    {
     "name": "stdout",
     "output_type": "stream",
     "text": [
      "观测 = (11, 4, False)\n",
      "玩家 = [9, 2], 庄家 = [4, 10]\n",
      "动作 = 1\n",
      "观测 = (16, 4, False), 奖励 = 0, 结束指示 = False\n",
      "玩家 = [9, 2, 5], 庄家 = [4, 10]\n",
      "动作 = 0\n",
      "观测 = (16, 4, False), 奖励 = 1.0, 结束指示 = True\n"
     ]
    }
   ],
   "source": [
    "# 用随机策略玩一个回合\n",
    "\n",
    "observation = env.reset()\n",
    "print('观测 = {}'.format(observation))\n",
    "\n",
    "while True:\n",
    "    print('玩家 = {}, 庄家 = {}'.format(env.player, env.dealer))\n",
    "    action = np.random.choice(env.action_space.n)\n",
    "    print('动作 = {}'.format(action))\n",
    "    observation, reward, done, _ = env.step(action)\n",
    "    print('观测 = {}, 奖励 = {}, 结束指示 = {}'.format(observation, reward, done))\n",
    "    \n",
    "    if done:\n",
    "        break"
   ]
  }
 ],
 "metadata": {
  "kernelspec": {
   "display_name": "Python 3",
   "language": "python",
   "name": "python3"
  },
  "language_info": {
   "codemirror_mode": {
    "name": "ipython",
    "version": 3
   },
   "file_extension": ".py",
   "mimetype": "text/x-python",
   "name": "python",
   "nbconvert_exporter": "python",
   "pygments_lexer": "ipython3",
   "version": "3.7.6"
  }
 },
 "nbformat": 4,
 "nbformat_minor": 4
}
