{
 "cells": [
  {
   "cell_type": "code",
   "execution_count": 33,
   "metadata": {},
   "outputs": [
    {
     "data": {
      "text/plain": [
       "<torch._C.Generator at 0x5794f70>"
      ]
     },
     "execution_count": 33,
     "metadata": {},
     "output_type": "execute_result"
    }
   ],
   "source": [
    "import gym\n",
    "import torch\n",
    "import numpy as np\n",
    "import pandas as pd\n",
    "import torch.nn as nn\n",
    "import torch.optim as optim\n",
    "import matplotlib.pyplot as plt\n",
    "import torch.nn.functional as F\n",
    "\n",
    "from tqdm.notebook import tqdm\n",
    "\n",
    "np.random.seed(0)\n",
    "torch.manual_seed(0)"
   ]
  },
  {
   "cell_type": "code",
   "execution_count": 4,
   "metadata": {},
   "outputs": [
    {
     "data": {
      "text/plain": [
       "[0]"
      ]
     },
     "execution_count": 4,
     "metadata": {},
     "output_type": "execute_result"
    }
   ],
   "source": [
    "env = gym.make('CartPole-v0')\n",
    "env.seed(0)"
   ]
  },
  {
   "cell_type": "code",
   "execution_count": 7,
   "metadata": {},
   "outputs": [],
   "source": [
    "class DQN(nn.Module):\n",
    "    \n",
    "    def __init__(self, input_size, hidden_sizes, output_size):\n",
    "        super(DQN, self).__init__()\n",
    "        \n",
    "        neurons = [input_size] + hidden_sizes\n",
    "        layers = []\n",
    "        for i in range(len(neurons) - 1):\n",
    "            layers.append(nn.Linear(neurons[i], neurons[i + 1]))\n",
    "            layers.append(nn.ReLU(inplace=True))\n",
    "        layers.append(nn.Linear(neurons[-1], output_size))\n",
    "        layers.append(nn.Softmax())\n",
    "        self.net = nn.Sequential(*layers)\n",
    "        return\n",
    "\n",
    "    def forward(self, x):\n",
    "        return self.net(x)"
   ]
  },
  {
   "cell_type": "code",
   "execution_count": 50,
   "metadata": {},
   "outputs": [],
   "source": [
    "# 同策策略梯度算法智能体类\n",
    "\n",
    "class VPGAgent(object):\n",
    "    \n",
    "    def __init__(self, env, policy_kwargs, baseline_kwargs=None, gamma=0.99):\n",
    "        observation_dim = env.observation_space.shape[0]\n",
    "        self.action_n = env.action_space.n\n",
    "        self.gamma = gamma\n",
    "        \n",
    "        self.trajectory = []\n",
    "\n",
    "        self.policy_net = DQN(observation_dim, policy_kwargs['hidden_sizes'], self.action_n)\n",
    "        self.policy_opt = optim.Adam(self.policy_net.parameters(), lr=policy_kwargs['learning_rate'])\n",
    "        \n",
    "        if baseline_kwargs:\n",
    "            self.baseline_net = DQN(observation_dim, baseline_kwargs['hidden_sizes'], 1)\n",
    "            self.baseline_opt = optim.Adam(self.baseline_net.parameters(), lr=baseline_kwargs['learning_rate'])\n",
    "        return\n",
    "\n",
    "    @staticmethod\n",
    "    def __tensor2numpy(tensor):\n",
    "        return tensor.cpu().detach().numpy()\n",
    "    \n",
    "    def decide(self, observation):\n",
    "        self.policy_net.eval()\n",
    "        probs = self.policy_net(torch.tensor(observation[np.newaxis]).float())\n",
    "        probs = self.__tensor2numpy(probs)[0]\n",
    "        action = np.random.choice(self.action_n, p=probs)\n",
    "        return action\n",
    "    \n",
    "    def learn(self, observation, action, reward, done):\n",
    "        self.trajectory.append((observation, action, reward))\n",
    "        \n",
    "        if done:\n",
    "            df = pd.DataFrame(data=self.trajectory, columns=['observation', 'action', 'reward'])\n",
    "            df['discount'] = self.gamma ** df.index.to_series()\n",
    "            df['discounted_reward'] = df['discount'] * df['reward']\n",
    "            df['discounted_return'] = df['discounted_reward'][::-1].cumsum()\n",
    "            df['psi'] = df['discounted_return']\n",
    "            \n",
    "            x = torch.tensor(np.stack(df['observation'])).float()\n",
    "            if hasattr(self, 'baseline_net'):\n",
    "                self.baseline_net.eval()\n",
    "                df['baseline'] = self.__tensor2numpy(self.baseline_net(x))\n",
    "                df['psi'] -= df['baseline'] * df['discount']\n",
    "                df['return'] = df['discount_return'] / df['discount']\n",
    "                y = torch.tensor(df['return'].values[:, np.newaxis]).float()\n",
    "                self.baseline_net.train()\n",
    "                y_hat = self.baseline_net(x)\n",
    "                loss = F.binary_cross_entropy_with_logits(y_hat, y)\n",
    "                self.baseline_opt.zero_grad()\n",
    "                loss.backward()\n",
    "                self.baseline_opt.step()\n",
    "            \n",
    "            y = torch.tensor(np.eye(self.action_n)[df['action']] * df['psi'].values[:, np.newaxis]).float()\n",
    "            self.policy_net.train()\n",
    "            y_hat = self.policy_net(x)\n",
    "            loss = F.binary_cross_entropy_with_logits(y_hat, y)\n",
    "            self.policy_opt.zero_grad()\n",
    "            loss.backward()\n",
    "            self.policy_opt.step()\n",
    "\n",
    "            self.trajectory = []\n",
    "        return"
   ]
  },
  {
   "cell_type": "code",
   "execution_count": 16,
   "metadata": {},
   "outputs": [],
   "source": [
    "# 智能体和环境交互一个回合的代码\n",
    "\n",
    "def play_montecarlo(env, agent, render=False, train=False):\n",
    "    episode_reward = 0.0\n",
    "    observation = env.reset()\n",
    "    \n",
    "    while True:\n",
    "        if render:\n",
    "            env.render()\n",
    "        \n",
    "        action = agent.decide(observation)\n",
    "        next_observation, reward, done, _ = env.step(action)\n",
    "        episode_reward += reward\n",
    "        \n",
    "        if train:\n",
    "            agent.learn(observation, action, reward, done)\n",
    "        if done:\n",
    "            break\n",
    "        \n",
    "        observation = next_observation\n",
    "    \n",
    "    return episode_reward"
   ]
  },
  {
   "cell_type": "code",
   "execution_count": 51,
   "metadata": {},
   "outputs": [
    {
     "data": {
      "application/vnd.jupyter.widget-view+json": {
       "model_id": "7bd25b5f62084b0fbcef1f099464b9f4",
       "version_major": 2,
       "version_minor": 0
      },
      "text/plain": [
       "HBox(children=(FloatProgress(value=0.0, max=2000.0), HTML(value='')))"
      ]
     },
     "metadata": {},
     "output_type": "display_data"
    },
    {
     "name": "stdout",
     "output_type": "stream",
     "text": [
      "\n"
     ]
    },
    {
     "name": "stderr",
     "output_type": "stream",
     "text": [
      "d:\\programdata\\miniconda3\\envs\\rl\\lib\\site-packages\\torch\\nn\\modules\\container.py:100: UserWarning: Implicit dimension choice for softmax has been deprecated. Change the call to include dim=X as an argument.\n",
      "  input = module(input)\n"
     ]
    },
    {
     "name": "stdout",
     "output_type": "stream",
     "text": [
      "平均回合奖励 = 950.0 / 100 = 9.5\n"
     ]
    },
    {
     "data": {
      "image/png": "[encoded data removed]",
      "text/plain": [
       "<Figure size 432x288 with 1 Axes>"
      ]
     },
     "metadata": {
      "needs_background": "light"
     },
     "output_type": "display_data"
    }
   ],
   "source": [
    "# 不带基线的简单策略梯度算法\n",
    "\n",
    "policy_kwargs = dict(hidden_sizes=[128,], learning_rate=0.01)\n",
    "agent = VPGAgent(env, policy_kwargs=policy_kwargs)\n",
    "\n",
    "# 训练\n",
    "episodes = 2000\n",
    "episode_rewards = []\n",
    "for episode in tqdm(range(episodes)):\n",
    "    episode_reward = play_montecarlo(env, agent, train=True)\n",
    "    episode_rewards.append(episode_reward)\n",
    "plt.plot(episode_rewards)\n",
    "\n",
    "# 测试\n",
    "episode_rewards = [play_montecarlo(env, agent, train=False) for _ in range(100)]\n",
    "print('平均回合奖励 = {} / {} = {}'.format(sum(episode_rewards), len(episode_rewards), np.mean(episode_rewards)))"
   ]
  }
 ],
 "metadata": {
  "kernelspec": {
   "display_name": "Python 3",
   "language": "python",
   "name": "python3"
  },
  "language_info": {
   "codemirror_mode": {
    "name": "ipython",
    "version": 3
   },
   "file_extension": ".py",
   "mimetype": "text/x-python",
   "name": "python",
   "nbconvert_exporter": "python",
   "pygments_lexer": "ipython3",
   "version": "3.7.6"
  }
 },
 "nbformat": 4,
 "nbformat_minor": 4
}
